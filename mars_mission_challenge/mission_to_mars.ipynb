{
 "cells": [
  {
   "cell_type": "code",
   "execution_count": 1,
   "id": "6cb86725",
   "metadata": {},
   "outputs": [],
   "source": [
    "import pandas as pd\n",
    "from bs4 import BeautifulSoup as bs\n",
    "from webdriver_manager.chrome import ChromeDriverManager\n",
    "from splinter import Browser\n",
    "import pymongo\n",
    "import requests"
   ]
  },
  {
   "cell_type": "code",
   "execution_count": 2,
   "id": "64b8d899",
   "metadata": {},
   "outputs": [
    {
     "name": "stderr",
     "output_type": "stream",
     "text": [
      "\n",
      "\n",
      "====== WebDriver manager ======\n",
      "Current google-chrome version is 96.0.4664\n",
      "Get LATEST chromedriver version for 96.0.4664 google-chrome\n",
      "Driver [/Users/emilyye/.wdm/drivers/chromedriver/mac64/96.0.4664.45/chromedriver] found in cache\n"
     ]
    }
   ],
   "source": [
    "# start a browser session\n",
    "executable_path = {'executable_path': ChromeDriverManager().install()}\n",
    "browser = Browser('chrome', **executable_path, headless=False)"
   ]
  },
  {
   "cell_type": "code",
   "execution_count": 3,
   "id": "3c453406",
   "metadata": {},
   "outputs": [],
   "source": [
    "url = \"https://redplanetscience.com/\"\n",
    "browser.visit(url)"
   ]
  },
  {
   "cell_type": "code",
   "execution_count": 4,
   "id": "b2c0f61e",
   "metadata": {},
   "outputs": [],
   "source": [
    "html = browser.html\n",
    "soup = bs(html, \"html.parser\")"
   ]
  },
  {
   "cell_type": "code",
   "execution_count": 5,
   "id": "27306c1b",
   "metadata": {},
   "outputs": [],
   "source": [
    "# scrape and save in variables the latest news title and the associated news paragraph\n",
    "news_title = soup.find('div', class_='content_title').text\n",
    "\n",
    "news_p = soup.find('div', class_= 'article_teaser_body').text\n",
    "\n",
    "# close session\n",
    "browser.quit()"
   ]
  },
  {
   "cell_type": "code",
   "execution_count": 6,
   "id": "5c0597bb",
   "metadata": {},
   "outputs": [
    {
     "name": "stderr",
     "output_type": "stream",
     "text": [
      "\n",
      "\n",
      "====== WebDriver manager ======\n",
      "Current google-chrome version is 96.0.4664\n",
      "Get LATEST chromedriver version for 96.0.4664 google-chrome\n",
      "Driver [/Users/emilyye/.wdm/drivers/chromedriver/mac64/96.0.4664.45/chromedriver] found in cache\n"
     ]
    }
   ],
   "source": [
    "#start a new session\n",
    "executable_path = {'executable_path': ChromeDriverManager().install()}\n",
    "browser = Browser('chrome', **executable_path, headless=False)"
   ]
  },
  {
   "cell_type": "code",
   "execution_count": 7,
   "id": "25c89914",
   "metadata": {},
   "outputs": [],
   "source": [
    "nasa_img = 'https://spaceimages-mars.com'\n",
    "# response = requests.get(nasa_img)\n",
    "browser.visit(nasa_img)\n",
    "\n",
    "img_html = browser.html\n",
    "soup = bs(img_html, \"html.parser\")\n",
    "\n",
    "# scrape the img url link and save in variable\n",
    "featured_image_url = soup.find('img', class_='headerimage fade-in')\n",
    "featured_image_url = \"https://spaceimages-mars.com/\" + str(featured_image_url['src'])\n",
    "\n",
    "browser.quit()"
   ]
  },
  {
   "cell_type": "code",
   "execution_count": 8,
   "id": "18ddf0ce",
   "metadata": {},
   "outputs": [],
   "source": [
    "# scrape the mars facts page with pandas\n",
    "\n",
    "mars_facts_url = 'https://galaxyfacts-mars.com/'\n",
    "\n",
    "mars_facts = pd.read_html(mars_facts_url)[0]\n",
    "\n",
    "mars_facts = mars_facts.iloc[1:]\n",
    "\n",
    "mars_facts = mars_facts.rename(columns={0: '', 1: 'Mars', 2: 'Earth'})\n",
    "\n",
    "mars_facts = mars_facts.set_index('')\n",
    "\n",
    "mars_facts_html = mars_facts.to_html(classes=\"table\")"
   ]
  },
  {
   "cell_type": "code",
   "execution_count": 9,
   "id": "3c3e1f47",
   "metadata": {},
   "outputs": [
    {
     "name": "stderr",
     "output_type": "stream",
     "text": [
      "\n",
      "\n",
      "====== WebDriver manager ======\n",
      "Current google-chrome version is 96.0.4664\n",
      "Get LATEST chromedriver version for 96.0.4664 google-chrome\n",
      "Driver [/Users/emilyye/.wdm/drivers/chromedriver/mac64/96.0.4664.45/chromedriver] found in cache\n"
     ]
    }
   ],
   "source": [
    "# set up for a browser session later on\n",
    "executable_path = {'executable_path': ChromeDriverManager().install()}\n",
    "browser = Browser('chrome', **executable_path, headless=False)\n",
    "\n",
    "# find the hemisphere image urls\n",
    "\n",
    "mars_urls = ['https://marshemispheres.com/cerberus.html','https://marshemispheres.com/schiaparelli.html','https://marshemispheres.com/syrtis.html','https://marshemispheres.com/valles.html']\n",
    "\n",
    "hemisphere_img_dict = []\n",
    "\n",
    "for url in mars_urls:\n",
    "    \n",
    "    browser.visit(url)\n",
    "\n",
    "    html = browser.html\n",
    "    soup = bs(html, 'html.parser')\n",
    "    \n",
    "    title = soup.find('h2', class_='title').text\n",
    "    href = soup.find('a', text='Sample').get('href')\n",
    "    \n",
    "    hem = {'title': title, 'image_url': \"https://marshemispheres.com/\" + str(href)}\n",
    "    hemisphere_img_dict.append(hem)\n",
    "\n",
    "# close session    \n",
    "browser.quit()"
   ]
  }
 ],
 "metadata": {
  "kernelspec": {
   "display_name": "Python 3.8.11 64-bit ('PythonData': conda)",
   "language": "python",
   "name": "python3811jvsc74a57bd0728b04c98466aa82948ab53e051679ddba7efd5cd254f67ce973a00128db32fe"
  },
  "language_info": {
   "codemirror_mode": {
    "name": "ipython",
    "version": 3
   },
   "file_extension": ".py",
   "mimetype": "text/x-python",
   "name": "python",
   "nbconvert_exporter": "python",
   "pygments_lexer": "ipython3",
   "version": "3.8.11"
  }
 },
 "nbformat": 4,
 "nbformat_minor": 5
}
